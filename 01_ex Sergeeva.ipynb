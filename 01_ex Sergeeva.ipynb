{
  "cells": [
    {
      "cell_type": "markdown",
      "metadata": {
        "id": "Jyrf8xk3k6Ys"
      },
      "source": [
        "# Лабораторная работа к лекции 1\n",
        "Ваше имя: Сергеева Анастасия\n",
        "\n",
        "Ваш адрес электронной почты: sergeevaai036@mgpu.ru"
      ]
    },
    {
      "cell_type": "markdown",
      "metadata": {
        "id": "86N7viRzk6Yt"
      },
      "source": [
        "## Упражнение 1.1. Типы данных и операции\n",
        "1. Определите две переменные и присвойте первой целое число, а второй — число с плавающей запятой. Определите новую переменную и присвойте сумму двух предыдущих переменных. Каков тип данных третьей переменной?\n",
        "2. Переназначьте переменную с другим типом данных, например, возьмите одну из числовых переменных и присвойте ей строку. Какой новый тип данных?\n",
        "3. Посмотрите, что произойдет, если вы попытаетесь добавить строку к строке.\n",
        "4. Посмотрите, что произойдет, если вы добавите строку к числу с плавающей запятой или целому числу."
      ]
    },
    {
      "cell_type": "code",
      "execution_count": 2,
      "metadata": {
        "id": "9ZgZCUPNk6Yt",
        "colab": {
          "base_uri": "https://localhost:8080/"
        },
        "outputId": "ca6970a7-b76b-40d3-bf13-258009d87475"
      },
      "outputs": [
        {
          "output_type": "stream",
          "name": "stdout",
          "text": [
            "<class 'float'>\n"
          ]
        }
      ],
      "source": [
        "# 1\n",
        "a = 5\n",
        "b = 3.14\n",
        "sum = a + b\n",
        "print(type(sum))  # class 'float'"
      ]
    },
    {
      "cell_type": "code",
      "source": [
        "# 2\n",
        "a = 10\n",
        "print(type(str(a)))  # class 'str'"
      ],
      "metadata": {
        "colab": {
          "base_uri": "https://localhost:8080/"
        },
        "id": "EV1yBflVOB2q",
        "outputId": "632f2f17-ddbe-4e8e-ff8d-517ac4905795"
      },
      "execution_count": 3,
      "outputs": [
        {
          "output_type": "stream",
          "name": "stdout",
          "text": [
            "<class 'str'>\n"
          ]
        }
      ]
    },
    {
      "cell_type": "code",
      "source": [
        "# 3\n",
        "str1 = \"Sergeeva\"\n",
        "str2 = \"Anastasiia\"\n",
        "result = str1 + str2\n",
        "print(result)  # SergeevaAnastasiia"
      ],
      "metadata": {
        "colab": {
          "base_uri": "https://localhost:8080/"
        },
        "id": "O_jpBDEOOc1f",
        "outputId": "3f158991-530a-495f-9bf7-cf75adca174f"
      },
      "execution_count": 4,
      "outputs": [
        {
          "output_type": "stream",
          "name": "stdout",
          "text": [
            "SergeevaAnastasiia\n"
          ]
        }
      ]
    },
    {
      "cell_type": "code",
      "source": [
        "# 4\n",
        "str1 = \"World\"\n",
        "a = 3.14\n",
        "sum = str1 + a\n",
        "print(sum)  # can only concatenate str (not \"float\") to str"
      ],
      "metadata": {
        "colab": {
          "base_uri": "https://localhost:8080/",
          "height": 193
        },
        "id": "57TsnBPpOp6q",
        "outputId": "563d42da-199e-4de5-e054-af548405dc26"
      },
      "execution_count": 6,
      "outputs": [
        {
          "output_type": "error",
          "ename": "TypeError",
          "evalue": "can only concatenate str (not \"float\") to str",
          "traceback": [
            "\u001b[0;31m---------------------------------------------------------------------------\u001b[0m",
            "\u001b[0;31mTypeError\u001b[0m                                 Traceback (most recent call last)",
            "\u001b[0;32m<ipython-input-6-20d5fbd5398e>\u001b[0m in \u001b[0;36m<cell line: 4>\u001b[0;34m()\u001b[0m\n\u001b[1;32m      2\u001b[0m \u001b[0mstr1\u001b[0m \u001b[0;34m=\u001b[0m \u001b[0;34m\"World\"\u001b[0m\u001b[0;34m\u001b[0m\u001b[0;34m\u001b[0m\u001b[0m\n\u001b[1;32m      3\u001b[0m \u001b[0ma\u001b[0m \u001b[0;34m=\u001b[0m \u001b[0;36m3.14\u001b[0m\u001b[0;34m\u001b[0m\u001b[0;34m\u001b[0m\u001b[0m\n\u001b[0;32m----> 4\u001b[0;31m \u001b[0msum\u001b[0m \u001b[0;34m=\u001b[0m \u001b[0mstr1\u001b[0m \u001b[0;34m+\u001b[0m \u001b[0ma\u001b[0m\u001b[0;34m\u001b[0m\u001b[0;34m\u001b[0m\u001b[0m\n\u001b[0m\u001b[1;32m      5\u001b[0m \u001b[0mprint\u001b[0m\u001b[0;34m(\u001b[0m\u001b[0msum\u001b[0m\u001b[0;34m)\u001b[0m  \u001b[0;31m# 13.14\u001b[0m\u001b[0;34m\u001b[0m\u001b[0;34m\u001b[0m\u001b[0m\n",
            "\u001b[0;31mTypeError\u001b[0m: can only concatenate str (not \"float\") to str"
          ]
        }
      ]
    },
    {
      "cell_type": "markdown",
      "metadata": {
        "id": "ZMoobyT-k6Yu"
      },
      "source": [
        "## Упражнение 1.2. Запуск программ\n",
        "\n",
        "  * Создайте новый файл Python(или файл с расширением `.ipynb`) и используйте функцию `double_number` в качестве шаблона. Измените код, чтобы добавить два числа вместо удвоения одного числа.\n",
        "  * Можете ли вы догадаться, что произойдет, если изменить отступ? Выполните данное действие.\n",
        "  * Попробуйте, что произойдет, если вы напечатаете `a` в самом конце программы. Пояснить, что происходит?\n",
        " [Текст ссылки](https://)"
      ]
    },
    {
      "cell_type": "code",
      "execution_count": 8,
      "metadata": {
        "id": "N2v5UHG1k6Yu",
        "colab": {
          "base_uri": "https://localhost:8080/"
        },
        "outputId": "3011db67-4757-4259-ece6-3a5eb9694a46"
      },
      "outputs": [
        {
          "output_type": "stream",
          "name": "stdout",
          "text": [
            "4\n"
          ]
        }
      ],
      "source": [
        "def double_number(a, b):\n",
        "    return a + b\n",
        "\n",
        "print(double_number(1, 3))"
      ]
    },
    {
      "cell_type": "code",
      "source": [
        "def double_number(a, b):\n",
        "return a + b # Выдает ошибку, поскольку return используется вне функции."
      ],
      "metadata": {
        "colab": {
          "base_uri": "https://localhost:8080/",
          "height": 106
        },
        "id": "XER3Be1iQH4q",
        "outputId": "f97dddcd-f4c0-4e9f-85b5-7220b45c0914"
      },
      "execution_count": 10,
      "outputs": [
        {
          "output_type": "error",
          "ename": "IndentationError",
          "evalue": "expected an indented block after function definition on line 1 (<ipython-input-10-e91aba724e62>, line 2)",
          "traceback": [
            "\u001b[0;36m  File \u001b[0;32m\"<ipython-input-10-e91aba724e62>\"\u001b[0;36m, line \u001b[0;32m2\u001b[0m\n\u001b[0;31m    return a + b\u001b[0m\n\u001b[0m    ^\u001b[0m\n\u001b[0;31mIndentationError\u001b[0m\u001b[0;31m:\u001b[0m expected an indented block after function definition on line 1\n"
          ]
        }
      ]
    },
    {
      "cell_type": "code",
      "source": [
        "def double_number(c):\n",
        "    c *= 2\n",
        "    return c\n",
        "\n",
        "c # name 'c' is not defined, область действия переменной внутри функции только"
      ],
      "metadata": {
        "colab": {
          "base_uri": "https://localhost:8080/",
          "height": 176
        },
        "id": "Wcyo-EseQb5z",
        "outputId": "b37357aa-cba8-47ae-eae4-0e2dbc485432"
      },
      "execution_count": 14,
      "outputs": [
        {
          "output_type": "error",
          "ename": "NameError",
          "evalue": "name 'c' is not defined",
          "traceback": [
            "\u001b[0;31m---------------------------------------------------------------------------\u001b[0m",
            "\u001b[0;31mNameError\u001b[0m                                 Traceback (most recent call last)",
            "\u001b[0;32m<ipython-input-14-ebc5450ea4ec>\u001b[0m in \u001b[0;36m<cell line: 5>\u001b[0;34m()\u001b[0m\n\u001b[1;32m      3\u001b[0m     \u001b[0;32mreturn\u001b[0m \u001b[0mc\u001b[0m\u001b[0;34m\u001b[0m\u001b[0;34m\u001b[0m\u001b[0m\n\u001b[1;32m      4\u001b[0m \u001b[0;34m\u001b[0m\u001b[0m\n\u001b[0;32m----> 5\u001b[0;31m \u001b[0mc\u001b[0m \u001b[0;31m# name 'c' is not defined, область действия переменной внутри функции только\u001b[0m\u001b[0;34m\u001b[0m\u001b[0;34m\u001b[0m\u001b[0m\n\u001b[0m",
            "\u001b[0;31mNameError\u001b[0m: name 'c' is not defined"
          ]
        }
      ]
    },
    {
      "cell_type": "markdown",
      "metadata": {
        "id": "15GtjpzGk6Yu"
      },
      "source": [
        "## Упражнение 1.3. Создание ячеек, выполнение кода\n",
        "\n",
        "1. Создайте новую ячейку кода ниже, где вы определите переменные, содержащие ваше имя, ваш возраст  и вашу специальность.\n",
        "2. Создайте еще одну ячейку, использующую эти переменные, и выведите объединенную строку с указанием вашего имени, специальности и возраста в годах, месяцах и днях (при условии, что сегодня ваш день рождения). Вывод должен выглядеть так:\n",
        "\n",
        "```\n",
        "Имя: Кот-ученый, Специальность: Бизнес-Информатика, Возраст: 18 лет, или 216 месяцев, или 6480 дней..\n",
        "```"
      ]
    },
    {
      "cell_type": "code",
      "source": [
        "name = \"Сергеева Анастасия\"\n",
        "age = 21\n",
        "specialty = \"Бизнес-Информатика\""
      ],
      "metadata": {
        "id": "UqUDZW0DR5JC"
      },
      "execution_count": 15,
      "outputs": []
    },
    {
      "cell_type": "code",
      "source": [
        "months = age * 12\n",
        "days = age * 365\n",
        "\n",
        "print(\"Имя: \", name, \", Специальность: \", specialty, \", Возраст: \", age, \" год, или \", months, \" месяца, или \", days, \" дней..\", sep=\"\")"
      ],
      "metadata": {
        "colab": {
          "base_uri": "https://localhost:8080/"
        },
        "id": "L7cFp0KOSgrH",
        "outputId": "3beee7eb-5274-4e10-d01f-06a9b1109bfa"
      },
      "execution_count": 21,
      "outputs": [
        {
          "output_type": "stream",
          "name": "stdout",
          "text": [
            "Имя: Сергеева Анастасия, Специальность: Бизнес-Информатика, Возраст: 21 год, или 252 месяца, или 7665 дней..\n"
          ]
        }
      ]
    },
    {
      "cell_type": "markdown",
      "metadata": {
        "id": "bPTBzjXhk6Yu"
      },
      "source": [
        "## Упражнение 1.4: Функции\n",
        "Напишите функцию, которая\n",
        "  * принимает две числовые переменные\n",
        "  * умножает их друг на друга\n",
        "  * делит их на числовую переменную, определенную в области видимости вне функции\n",
        "  * и возвращает результат.\n",
        "\n",
        "Выведите результат функции для трех разных наборов входных переменных."
      ]
    },
    {
      "cell_type": "code",
      "execution_count": 29,
      "metadata": {
        "id": "z7DKIUQCk6Yu"
      },
      "outputs": [],
      "source": [
        "# Ваш код\n",
        "def f1(d, e):\n",
        "    global g\n",
        "    result = (d * e) / g\n",
        "    return result\n",
        "\n",
        "g = 5"
      ]
    },
    {
      "cell_type": "code",
      "source": [
        "# Первый набор переменных\n",
        "d = 8\n",
        "e = 4\n",
        "print(f1(d, e))"
      ],
      "metadata": {
        "colab": {
          "base_uri": "https://localhost:8080/"
        },
        "id": "PikSdE2rVgWD",
        "outputId": "ca9901b3-e4d2-4acf-eb79-2399dddb7609"
      },
      "execution_count": 30,
      "outputs": [
        {
          "output_type": "stream",
          "name": "stdout",
          "text": [
            "6.4\n"
          ]
        }
      ]
    },
    {
      "cell_type": "code",
      "source": [
        "# Второй набор переменных\n",
        "d = 10\n",
        "e = 2\n",
        "print(f1(d, e))"
      ],
      "metadata": {
        "colab": {
          "base_uri": "https://localhost:8080/"
        },
        "id": "jnfLcoUcVGzs",
        "outputId": "ecc5cf3d-ca0e-495e-a86c-7cba5023576f"
      },
      "execution_count": 31,
      "outputs": [
        {
          "output_type": "stream",
          "name": "stdout",
          "text": [
            "4.0\n"
          ]
        }
      ]
    },
    {
      "cell_type": "code",
      "source": [
        "# Третий набор переменных\n",
        "d = 6\n",
        "e = 3\n",
        "print(f1(d, e))"
      ],
      "metadata": {
        "colab": {
          "base_uri": "https://localhost:8080/"
        },
        "id": "zeMmsQJlVW-C",
        "outputId": "1ce0efe1-2ef5-4a49-f6d7-74c1f6174915"
      },
      "execution_count": 32,
      "outputs": [
        {
          "output_type": "stream",
          "name": "stdout",
          "text": [
            "3.6\n"
          ]
        }
      ]
    },
    {
      "cell_type": "markdown",
      "metadata": {
        "id": "Reejdkfg4-Og"
      },
      "source": [
        "## Упражнение 1.5*\n",
        "\n",
        "Есть некоторые данные о количестве книг, прочитанных разными людьми, работающими в книжном магазине Владимира. Создайте код Python, который учитывает каждого человека и выводит, сколько книг он прочитал. Если кто-то прочитал 0 книг, выведите «___ не читал ни одной книги!» вместо количества книг."
      ]
    },
    {
      "cell_type": "code",
      "execution_count": 33,
      "metadata": {
        "id": "0MRf9itX4-Oh"
      },
      "outputs": [],
      "source": [
        "people = ['Krishnang', 'Steve', 'Jimmy', 'Mary', 'Divya', 'Robert', 'Yulia']\n",
        "books_read = [12, 6, 0, 7, 4, 10, 15]"
      ]
    },
    {
      "cell_type": "markdown",
      "metadata": {
        "id": "M0-w0tz34-Oi"
      },
      "source": [
        "Существует несколько способов решить эту задачу: можно изучить функцию `zip()`, использовать `enumerate()`, `range` и `len` или использовать другие методы. Чтобы напечатать имена и значения, вы можете использовать конкатенацию строк (+), форматирование f-строки или другие методы."
      ]
    },
    {
      "cell_type": "code",
      "execution_count": 34,
      "metadata": {
        "colab": {
          "base_uri": "https://localhost:8080/"
        },
        "id": "Lpq-c-y64-Oj",
        "outputId": "0cad8cb9-9d03-4e1b-bce0-4b48e6e18e27"
      },
      "outputs": [
        {
          "output_type": "stream",
          "name": "stdout",
          "text": [
            "Krishnang прочитал 12 книг\n",
            "Steve прочитал 6 книг\n",
            "Jimmy не читал ни одной книги!\n",
            "Mary прочитал 7 книг\n",
            "Divya прочитал 4 книг\n",
            "Robert прочитал 10 книг\n",
            "Yulia прочитал 15 книг\n"
          ]
        }
      ],
      "source": [
        "for person, books in zip(people, books_read):\n",
        "    if books == 0:\n",
        "        print(f'{person} не читал ни одной книги!')\n",
        "    else:\n",
        "        print(f'{person} прочитал {books} книг')"
      ]
    },
    {
      "cell_type": "markdown",
      "metadata": {
        "id": "bDPm_kd14-Ok"
      },
      "source": [
        "Преобразуйте только что созданный цикл в функцию, которая принимает два списка (прочитанные книги и людей) в качестве аргументов."
      ]
    },
    {
      "cell_type": "code",
      "execution_count": 35,
      "metadata": {
        "colab": {
          "base_uri": "https://localhost:8080/"
        },
        "id": "Dkoatpr14-Ol",
        "outputId": "fee068bb-f62f-4559-e348-cff86a563d27"
      },
      "outputs": [
        {
          "output_type": "stream",
          "name": "stdout",
          "text": [
            "Krishnang прочитал 12 книг\n",
            "Steve прочитал 6 книг\n",
            "Jimmy не читал ни одной книги!\n",
            "Mary прочитал 7 книг\n",
            "Divya прочитал 4 книг\n",
            "Robert прочитал 10 книг\n",
            "Yulia прочитал 15 книг\n"
          ]
        }
      ],
      "source": [
        "def f2(people, books_read):\n",
        "    for person, books in zip(people, books_read):\n",
        "        if books == 0:\n",
        "            print(f'{person} не читал ни одной книги!')\n",
        "        else:\n",
        "            print(f'{person} прочитал {books} книг')\n",
        "f2(people, books_read)"
      ]
    },
    {
      "cell_type": "markdown",
      "metadata": {
        "id": "ftgbKRpJ4-Om"
      },
      "source": [
        "Отсортируйте значения `books_read` от большего к меньшему и выведите трех первых людей с количеством прочитанных ими книг. Некоторые возможные способы решения этой задачи включают использование сортировки аргументов `NumPy`, создание словаря и создание кортежей."
      ]
    },
    {
      "cell_type": "code",
      "execution_count": 40,
      "metadata": {
        "colab": {
          "base_uri": "https://localhost:8080/"
        },
        "id": "kbcXu7FE4-Om",
        "outputId": "fb34c2bc-f313-4ef1-d222-38be4bff529e"
      },
      "outputs": [
        {
          "output_type": "stream",
          "name": "stdout",
          "text": [
            "Yulia прочитал 15 книг\n",
            "Krishnang прочитал 12 книг\n",
            "Robert прочитал 10 книг\n"
          ]
        }
      ],
      "source": [
        "sort = sorted(zip(books_read, people), reverse=True)[:3]\n",
        "\n",
        "for books, person in sort:\n",
        "    print(f'{person} прочитал {books} книг')"
      ]
    }
  ],
  "metadata": {
    "colab": {
      "provenance": []
    },
    "kernelspec": {
      "display_name": "Python 3 (ipykernel)",
      "language": "python",
      "name": "python3"
    },
    "language_info": {
      "codemirror_mode": {
        "name": "ipython",
        "version": 3
      },
      "file_extension": ".py",
      "mimetype": "text/x-python",
      "name": "python",
      "nbconvert_exporter": "python",
      "pygments_lexer": "ipython3",
      "version": "3.9.13"
    }
  },
  "nbformat": 4,
  "nbformat_minor": 0
}